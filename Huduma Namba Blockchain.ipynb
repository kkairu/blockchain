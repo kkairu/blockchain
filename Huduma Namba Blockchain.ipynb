{
 "cells": [
  {
   "cell_type": "markdown",
   "metadata": {},
   "source": [
    "# Huduma Namba Blockchain Using Python\n",
    "\n",
    "Blockchain prevents backdating and data tampering.\n",
    "\n",
    "Demonstrate how to build a private blockchain for storing citizen bioData with essential operations such as:\n",
    "\n",
    "- creating a blockchain\n",
    "- verifying a chain\n",
    "- forking\n",
    "- comparing chains.\n",
    "\n",
    "NOTE: no algorithms on any distributed network or Proof of Work."
   ]
  },
  {
   "cell_type": "code",
   "execution_count": 1,
   "metadata": {},
   "outputs": [],
   "source": [
    "import copy # fork a chain\n",
    "import datetime # get real time for timestamps\n",
    "import hashlib # hash"
   ]
  },
  {
   "cell_type": "code",
   "execution_count": 2,
   "metadata": {},
   "outputs": [],
   "source": [
    "# Define Class - HudumaBlock\n",
    "# -----------------------------------------------------------------------------------------------------------------------------\n",
    "# - The Hash key is hard to fake or brute force, but is easy to verify\n",
    "# - Computationally easy to get H(x) from input x, but intractable to reverse the process\n",
    "# - Use SHA-256 algorithm to hash block\n",
    "\n",
    "class CitizenBlock():\n",
    "    def __init__(self, index, timestamp, data, previous_hash):\n",
    "        self.index = index\n",
    "        self.timestamp = timestamp\n",
    "        self.data = data\n",
    "        self.previous_hash = previous_hash\n",
    "        self.hash = self.hashing()\n",
    "    \n",
    "    def __eq__(self, other):\n",
    "        if isinstance(other, self.__class__):\n",
    "            return self.__dict__ == other.__dict__\n",
    "        else:\n",
    "            return False\n",
    "    \n",
    "    def hashing(self):\n",
    "        key = hashlib.sha256()\n",
    "        key.update(str(self.index).encode('utf-8'))\n",
    "        key.update(str(self.timestamp).encode('utf-8'))\n",
    "        key.update(str(self.data).encode('utf-8'))\n",
    "        key.update(str(self.previous_hash).encode('utf-8'))\n",
    "        return key.hexdigest()\n",
    "    \n",
    "    def verify(self): # check data types of all info in a block\n",
    "        instances = [self.index, self.timestamp, self.previous_hash, self.hash]\n",
    "        types = [int, datetime.datetime, str, str]\n",
    "        if sum(map(lambda inst_, type_: isinstance(inst_, type_), instances, types)) == len(instances):\n",
    "            return True\n",
    "        else:\n",
    "            return False"
   ]
  },
  {
   "cell_type": "code",
   "execution_count": 3,
   "metadata": {},
   "outputs": [],
   "source": [
    "# Define Class - HudumaChain\n",
    "# -----------------------------------------------------------------------------------------------------------------------------\n",
    "# - chain of blocks, and the connection is made by storing the hash of the previous block\n",
    "# - initialize chain, automatically assign a 0th block (Genesis block) \n",
    "\n",
    "# Verify\n",
    "# -----------------------------------------------------------------\n",
    "# - Index in blocks[i] is i, and hence no missing or extra blocks.\n",
    "# - Compute block hash H(blocks[i]) and cross-check with the recorded hash. \n",
    "#    Even if a single bit in a block is altered, the computed block hash would be entirely different.\n",
    "# - Verify if H(blocks[i]) is correctly stored in next block’s previous_hash.\n",
    "# - Check if there is any backdating by looking into the timestamps.\n",
    "\n",
    "class HudumaChain():\n",
    "    def __init__(self): # initialize when creating a chain\n",
    "        self.blocks = [self.get_genesis_block()]\n",
    "    \n",
    "    def __eq__(self, other):\n",
    "        if isinstance(other, self.__class__):\n",
    "            return self.__dict__ == other.__dict__\n",
    "        else:\n",
    "            return False\n",
    "    \n",
    "    def get_genesis_block(self): \n",
    "        return CitizenBlock(0, \n",
    "                            datetime.datetime.utcnow(), \n",
    "                            'Genesis', \n",
    "                            'arbitrary')\n",
    "    \n",
    "    def add_block(self, data): #Add Block to chain\n",
    "        self.blocks.append(CitizenBlock(len(self.blocks), \n",
    "                                        datetime.datetime.utcnow(), \n",
    "                                        data,\n",
    "                                        self.blocks[len(self.blocks)-1].hash))\n",
    "    \n",
    "    def get_chain_size(self): # exclude genesis block\n",
    "        return len(self.blocks)-1\n",
    "    \n",
    "    def verify(self, verbose=True): \n",
    "        flag = True\n",
    "        for i in range(1,len(self.blocks)):\n",
    "            if not self.blocks[i].verify(): # assume Genesis block integrity\n",
    "                flag = False\n",
    "                if verbose:\n",
    "                    print(f'Wrong data type(s) at block {i}.')\n",
    "            if self.blocks[i].index != i:\n",
    "                flag = False\n",
    "                if verbose:\n",
    "                    print(f'Wrong block index at block {i}.')\n",
    "            if self.blocks[i-1].hash != self.blocks[i].previous_hash:\n",
    "                flag = False\n",
    "                if verbose:\n",
    "                    print(f'Wrong previous hash at block {i}.')\n",
    "            if self.blocks[i].hash != self.blocks[i].hashing():\n",
    "                flag = False\n",
    "                if verbose:\n",
    "                    print(f'Wrong hash at block {i}.')\n",
    "            if self.blocks[i-1].timestamp > self.blocks[i].timestamp: # >= compare previous and current block create time\n",
    "                flag = False\n",
    "                if verbose:\n",
    "                    #print(self.blocks[i-1].timestamp)\n",
    "                    #print(self.blocks[i].timestamp)\n",
    "                    print(f'Backdating at block {i}.')\n",
    "        return flag\n",
    "    \n",
    "    # In case you might want to branch out of a chain. \n",
    "    def fork(self, head='latest'):\n",
    "        if head in ['latest', 'whole', 'all']:\n",
    "            return copy.deepcopy(self) # deepcopy since they are mutable\n",
    "        else:\n",
    "            c = copy.deepcopy(self)\n",
    "            c.blocks = c.blocks[0:head+1]\n",
    "            return c\n",
    "    \n",
    "    def get_root(self, chain_2):\n",
    "        min_chain_size = min(self.get_chain_size(), chain_2.get_chain_size())\n",
    "        for i in range(1,min_chain_size+1):\n",
    "            if self.blocks[i] != chain_2.blocks[i]:\n",
    "                return self.fork(i-1)\n",
    "        return self.fork(min_chain_size)"
   ]
  },
  {
   "cell_type": "code",
   "execution_count": 4,
   "metadata": {},
   "outputs": [
    {
     "name": "stdout",
     "output_type": "stream",
     "text": [
      "[INFO]: CITIZEN BlockChain Started...\n"
     ]
    }
   ],
   "source": [
    "# Start a Citizen Chain and test\n",
    "# -----------------------------------------------------------------------------------------------------------------------------\n",
    "\n",
    "KE_CITIZEN_CHAIN = HudumaChain() # Start a chain\n",
    "\n",
    "for i in range(1,20+1):\n",
    "    #c.add_block(f'This is block {i} of my first chain.','1983-05-02','Kennedy','Kariuki')\n",
    "    bioData = {'NIIMS': 'KE-2020-'+str(i),'DOB': '1960-12-01','FIRST NAME': 'Kennedy_'+str(i),'SURNAME': 'Kariuki'}\n",
    "    KE_CITIZEN_CHAIN.add_block(bioData)\n",
    "\n",
    "print('[INFO]: CITIZEN BlockChain Started...')"
   ]
  },
  {
   "cell_type": "code",
   "execution_count": 5,
   "metadata": {},
   "outputs": [
    {
     "name": "stdout",
     "output_type": "stream",
     "text": [
      "   DATE/TIME  = 2020-02-01 13:50:25.356759\n",
      "CITIZEN DATA  = {'NIIMS': 'KE-2020-5', 'DOB': '1960-12-01', 'FIRST NAME': 'Kennedy_5', 'SURNAME': 'Kariuki'}\n",
      "  BLOCK HASH  = cbd665a2c578e37feb2aaba1197be3d706022e6c6492cfd7551d094cb8e84bf3\n"
     ]
    }
   ],
   "source": [
    "#v_niims = c.blocks[3].data['NIIMS']\n",
    "\n",
    "i = 5\n",
    "\n",
    "print(f'   DATE/TIME  = {KE_CITIZEN_CHAIN.blocks[i].timestamp}')\n",
    "print(f'CITIZEN DATA  = {KE_CITIZEN_CHAIN.blocks[i].data}')\n",
    "print(f'  BLOCK HASH  = {KE_CITIZEN_CHAIN.blocks[i].hash}')"
   ]
  },
  {
   "cell_type": "code",
   "execution_count": 6,
   "metadata": {},
   "outputs": [
    {
     "name": "stdout",
     "output_type": "stream",
     "text": [
      "CITIZEN CHAIN SIZE = 20\n",
      "   CHAIN VERIFIED? = True\n"
     ]
    }
   ],
   "source": [
    "# Get Chain Size and Verify\n",
    "# -----------------------------------------------------------------------------------------------------------------------------\n",
    "\n",
    "print(f'CITIZEN CHAIN SIZE = {KE_CITIZEN_CHAIN.get_chain_size()}')\n",
    "print(f'   CHAIN VERIFIED? = {KE_CITIZEN_CHAIN.verify(verbose=False)}')"
   ]
  },
  {
   "cell_type": "code",
   "execution_count": 7,
   "metadata": {},
   "outputs": [
    {
     "name": "stdout",
     "output_type": "stream",
     "text": [
      "FORKED SUCCESS(T) / FAIL(F) = True\n"
     ]
    }
   ],
   "source": [
    "# Fork Chain and check\n",
    "# -----------------------------------------------------------------------------------------------------------------------------\n",
    "\n",
    "c_forked = KE_CITIZEN_CHAIN.fork(head='latest')\n",
    "print(f'FORKED SUCCESS(T) / FAIL(F) = {KE_CITIZEN_CHAIN == c_forked}')"
   ]
  },
  {
   "cell_type": "code",
   "execution_count": 8,
   "metadata": {},
   "outputs": [
    {
     "name": "stdout",
     "output_type": "stream",
     "text": [
      "KE_CITIZEN_CHAIN = 20 \n",
      "        c_forked = 21\n"
     ]
    }
   ],
   "source": [
    "# Add to forked Chain\n",
    "# -----------------------------------------------------------------------------------------------------------------------------\n",
    "\n",
    "c_forked.add_block('New Number for forked chain!')\n",
    "print(f'KE_CITIZEN_CHAIN = {KE_CITIZEN_CHAIN.get_chain_size()} \\n        c_forked = {c_forked.get_chain_size()}')"
   ]
  },
  {
   "cell_type": "markdown",
   "metadata": {},
   "source": [
    "## Conflict Testing"
   ]
  },
  {
   "cell_type": "code",
   "execution_count": 9,
   "metadata": {},
   "outputs": [
    {
     "name": "stdout",
     "output_type": "stream",
     "text": [
      "Wrong block index at block 9.\n",
      "Wrong hash at block 9.\n"
     ]
    },
    {
     "data": {
      "text/plain": [
       "False"
      ]
     },
     "execution_count": 9,
     "metadata": {},
     "output_type": "execute_result"
    }
   ],
   "source": [
    "c_forked = KE_CITIZEN_CHAIN.fork('latest')\n",
    "c_forked.blocks[9].index = -9\n",
    "c_forked.verify()"
   ]
  },
  {
   "cell_type": "code",
   "execution_count": 10,
   "metadata": {},
   "outputs": [
    {
     "name": "stdout",
     "output_type": "stream",
     "text": [
      "Wrong hash at block 16.\n",
      "2020-02-01 13:50:25.356759\n",
      "2000-01-01 00:00:00\n",
      "Backdating at block 16.\n"
     ]
    },
    {
     "data": {
      "text/plain": [
       "False"
      ]
     },
     "execution_count": 10,
     "metadata": {},
     "output_type": "execute_result"
    }
   ],
   "source": [
    "\n",
    "c_forked = KE_CITIZEN_CHAIN.fork('latest')\n",
    "c_forked.blocks[16].timestamp = datetime.datetime(2000, 1, 1, 0, 0, 0, 0)\n",
    "c_forked.verify()"
   ]
  },
  {
   "cell_type": "code",
   "execution_count": 11,
   "metadata": {},
   "outputs": [
    {
     "name": "stdout",
     "output_type": "stream",
     "text": [
      "Wrong previous hash at block 5.\n",
      "Wrong hash at block 5.\n"
     ]
    },
    {
     "data": {
      "text/plain": [
       "False"
      ]
     },
     "execution_count": 11,
     "metadata": {},
     "output_type": "execute_result"
    }
   ],
   "source": [
    "\n",
    "c_forked = KE_CITIZEN_CHAIN.fork('latest')\n",
    "c_forked.blocks[5].previous_hash = c_forked.blocks[1].hash\n",
    "c_forked.verify()"
   ]
  },
  {
   "cell_type": "code",
   "execution_count": 12,
   "metadata": {},
   "outputs": [
    {
     "name": "stdout",
     "output_type": "stream",
     "text": [
      "Wrong hash at block 5.\n"
     ]
    },
    {
     "data": {
      "text/plain": [
       "False"
      ]
     },
     "execution_count": 12,
     "metadata": {},
     "output_type": "execute_result"
    }
   ],
   "source": [
    "# Only the same data would create the same hash.\n",
    "\n",
    "c_forked = KE_CITIZEN_CHAIN.fork('latest')\n",
    "c_forked.blocks[5].data = {'NIIMS': 'KE-2020-51', 'DOB': '1960-12-01', 'FIRST NAME': 'Kennedy_XXXX', 'SURNAME': 'Kariuki'}\n",
    "c_forked.verify()"
   ]
  },
  {
   "cell_type": "code",
   "execution_count": null,
   "metadata": {},
   "outputs": [],
   "source": []
  }
 ],
 "metadata": {
  "kernelspec": {
   "display_name": "Python 3",
   "language": "python",
   "name": "python3"
  },
  "language_info": {
   "codemirror_mode": {
    "name": "ipython",
    "version": 3
   },
   "file_extension": ".py",
   "mimetype": "text/x-python",
   "name": "python",
   "nbconvert_exporter": "python",
   "pygments_lexer": "ipython3",
   "version": "3.7.4"
  }
 },
 "nbformat": 4,
 "nbformat_minor": 2
}
